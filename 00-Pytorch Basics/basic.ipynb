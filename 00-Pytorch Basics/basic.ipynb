{
 "cells": [
  {
   "cell_type": "code",
   "execution_count": 1,
   "metadata": {},
   "outputs": [
    {
     "name": "stdout",
     "output_type": "stream",
     "text": [
      "1.3.1\n"
     ]
    }
   ],
   "source": [
    "import torch\n",
    "import numpy as np\n",
    "print(torch.__version__)"
   ]
  },
  {
   "cell_type": "markdown",
   "metadata": {},
   "source": [
    "### torch 基本处理单元"
   ]
  },
  {
   "cell_type": "code",
   "execution_count": 18,
   "metadata": {},
   "outputs": [
    {
     "name": "stdout",
     "output_type": "stream",
     "text": [
      "tensor([[0.0000, 0.0000, 0.0000, 0.0000],\n",
      "        [0.0000, 0.0000, 0.0000, 0.0000],\n",
      "        [0.0000, 0.0000, 0.0000, 0.0000],\n",
      "        [0.0000, 0.0000, 0.0000, 0.0000],\n",
      "        [0.0000, 0.0000, 0.2341, 0.7912]])\n",
      "tensor([5, 4])\n",
      "torch.Size([5, 4])\n",
      "[[1. 1. 1. 1.]\n",
      " [1. 1. 1. 1.]\n",
      " [1. 1. 1. 1.]\n",
      " [1. 1. 1. 1.]\n",
      " [1. 1. 1. 1.]]\n",
      "[[0.7671256  0.7900159  0.64528286 0.9908483 ]\n",
      " [0.5194284  0.40767384 0.6913311  0.39923298]\n",
      " [0.42957473 0.4920962  0.25962853 0.7982873 ]\n",
      " [0.56947637 0.0475288  0.11929905 0.3943758 ]\n",
      " [0.04406333 0.03385818 0.46141464 0.91640157]]\n"
     ]
    }
   ],
   "source": [
    "# 返回的数组大小5x4的矩阵\n",
    "print(torch.Tensor(5, 4))\n",
    "\n",
    "#使用torch.tensor创建Tensor\n",
    "print(torch.tensor([5,4]))\n",
    "\n",
    "# 得到矩阵大小\n",
    "a = torch.rand(5, 4)\n",
    "print(a.size())\n",
    "\n",
    "# numpy 类似的返回5x4大小的矩阵\n",
    "print(np.ones((5, 4)))\n",
    "\n",
    "# numpy 和 torch.Tensor 之间的转换\n",
    "a = torch.rand(5, 4)\n",
    "b = a.numpy()\n",
    "print(b)"
   ]
  },
  {
   "cell_type": "code",
   "execution_count": 3,
   "metadata": {},
   "outputs": [
    {
     "name": "stdout",
     "output_type": "stream",
     "text": [
      "tensor([[3, 4],\n",
      "        [3, 6]])\n"
     ]
    }
   ],
   "source": [
    "a = np.array([[3, 4], [3, 6]])\n",
    "b = torch.from_numpy(a)\n",
    "print(b)"
   ]
  },
  {
   "cell_type": "markdown",
   "metadata": {},
   "source": [
    "运算和numpy类似"
   ]
  },
  {
   "cell_type": "code",
   "execution_count": 4,
   "metadata": {},
   "outputs": [],
   "source": [
    "x = torch.rand(5, 4)\n",
    "y = torch.rand(5, 4)\n",
    "c = 3"
   ]
  },
  {
   "cell_type": "code",
   "execution_count": 5,
   "metadata": {},
   "outputs": [
    {
     "name": "stdout",
     "output_type": "stream",
     "text": [
      "tensor([[1.4946, 1.3366, 1.2578, 1.8533],\n",
      "        [2.2119, 0.7762, 0.4060, 2.2987],\n",
      "        [0.6867, 0.6826, 1.0192, 2.0836],\n",
      "        [1.6488, 0.4626, 2.3486, 1.5477],\n",
      "        [2.5273, 1.5043, 1.6045, 2.6968]])\n",
      "tensor([[1.2635, 0.7035, 1.2137, 1.0401],\n",
      "        [1.3422, 1.0310, 0.8215, 1.2571],\n",
      "        [0.5571, 0.5640, 0.8768, 1.4726],\n",
      "        [1.5067, 0.5577, 1.4611, 0.8020],\n",
      "        [0.9885, 0.9937, 1.0266, 1.5000]])\n",
      "tensor([[1.2635, 0.7035, 1.2137, 1.0401],\n",
      "        [1.3422, 1.0310, 0.8215, 1.2571],\n",
      "        [0.5571, 0.5640, 0.8768, 1.4726],\n",
      "        [1.5067, 0.5577, 1.4611, 0.8020],\n",
      "        [0.9885, 0.9937, 1.0266, 1.5000]])\n"
     ]
    }
   ],
   "source": [
    "print(c * x)\n",
    "print(x + y)\n",
    "print(x.add(y))"
   ]
  },
  {
   "cell_type": "code",
   "execution_count": 6,
   "metadata": {},
   "outputs": [
    {
     "data": {
      "text/plain": [
       "tensor([[1.2635, 0.7035, 1.2137, 1.0401],\n",
       "        [1.3422, 1.0310, 0.8215, 1.2571],\n",
       "        [0.5571, 0.5640, 0.8768, 1.4726],\n",
       "        [1.5067, 0.5577, 1.4611, 0.8020],\n",
       "        [0.9885, 0.9937, 1.0266, 1.5000]])"
      ]
     },
     "execution_count": 6,
     "metadata": {},
     "output_type": "execute_result"
    }
   ],
   "source": [
    "# 可以直接进行操作改变原对象，x+y或者x.add()并不会改变x，但是x.add_()则会对x进行改变\n",
    "x.add_(y)"
   ]
  },
  {
   "cell_type": "code",
   "execution_count": 7,
   "metadata": {},
   "outputs": [
    {
     "name": "stdout",
     "output_type": "stream",
     "text": [
      "tensor([[1.2635, 0.7035, 1.2137, 1.0401],\n",
      "        [1.3422, 1.0310, 0.8215, 1.2571],\n",
      "        [0.5571, 0.5640, 0.8768, 1.4726],\n",
      "        [1.5067, 0.5577, 1.4611, 0.8020],\n",
      "        [0.9885, 0.9937, 1.0266, 1.5000]])\n"
     ]
    }
   ],
   "source": [
    "print(x)"
   ]
  },
  {
   "cell_type": "code",
   "execution_count": 19,
   "metadata": {},
   "outputs": [
    {
     "data": {
      "text/plain": [
       "False"
      ]
     },
     "execution_count": 19,
     "metadata": {},
     "output_type": "execute_result"
    }
   ],
   "source": [
    "# 将 torch.Tensor 放到 GPU 上\n",
    "# 判断一下电脑是否支持GPU\n",
    "torch.cuda.is_available()"
   ]
  },
  {
   "cell_type": "code",
   "execution_count": 9,
   "metadata": {},
   "outputs": [
    {
     "name": "stdout",
     "output_type": "stream",
     "text": [
      "tensor([[0.4672, 0.1916, 0.8725, 0.4729],\n",
      "        [0.8707, 0.8414, 0.2871, 0.3891],\n",
      "        [0.1879, 0.5877, 0.1834, 0.1500],\n",
      "        [0.6348, 0.0187, 0.2380, 0.1548],\n",
      "        [0.2477, 0.8862, 0.2341, 0.7912]])\n"
     ]
    }
   ],
   "source": [
    "a = torch.rand(5, 4)\n",
    "# a = a.cuda()\n",
    "print(a)"
   ]
  },
  {
   "cell_type": "markdown",
   "metadata": {},
   "source": [
    "### torch 的自动求导功能\n",
    "torch 和大部分框架一样有着自动求导功能，对象不再是 torch.Tensor，而是torch.autograd.Variable\n",
    "\n",
    "本质上Variable和Tensor没有什么区别，不过Variable会放在一个计算图里面，可以进行前向传播和反向传播以及求导  \n",
    "\n",
    "![1.png](../pics/autograd0.png)\n",
    "\n",
    "里面的creator表示通过什么操作得到的这个Variable，grad表示反向传播的梯度"
   ]
  },
  {
   "cell_type": "code",
   "execution_count": 10,
   "metadata": {},
   "outputs": [],
   "source": [
    "from torch.autograd import Variable"
   ]
  },
  {
   "cell_type": "code",
   "execution_count": 11,
   "metadata": {},
   "outputs": [],
   "source": [
    "# requires_grad 表示是否对其求梯度，默认是False\n",
    "x = Variable(torch.Tensor([3]), requires_grad=True)\n",
    "y = Variable(torch.Tensor([5]), requires_grad=True)\n",
    "z = 2 * x + y + 4"
   ]
  },
  {
   "cell_type": "code",
   "execution_count": 12,
   "metadata": {},
   "outputs": [],
   "source": [
    "# 对 x 和 y 分别求导，默认只求一次导，如果要多次求导需要设置 retain_graph=True\n",
    "z.backward()"
   ]
  },
  {
   "cell_type": "code",
   "execution_count": 13,
   "metadata": {},
   "outputs": [
    {
     "name": "stdout",
     "output_type": "stream",
     "text": [
      "dz/dx: tensor([2.])\n",
      "dz/dy: tensor([1.])\n"
     ]
    }
   ],
   "source": [
    "# x 的导数和 y 的导数\n",
    "print('dz/dx: {}'.format(x.grad.data))\n",
    "print('dz/dy: {}'.format(y.grad.data))"
   ]
  },
  {
   "cell_type": "markdown",
   "metadata": {},
   "source": [
    "### 神经网络部分\n",
    "\n",
    "所依赖的主要是 torch.nn 和 torch.nn.functional\n",
    "\n",
    "torch.nn 里面有着所有的神经网络的层的操作，其用来构建网络，只有执行一次网络的运算才执行一次\n",
    "\n",
    "torch.nn.functional 表示的是直接对其做一次向前运算操作"
   ]
  },
  {
   "cell_type": "code",
   "execution_count": 14,
   "metadata": {},
   "outputs": [],
   "source": [
    "from torch import nn\n",
    "import torch.nn.functional as F"
   ]
  },
  {
   "cell_type": "code",
   "execution_count": 16,
   "metadata": {},
   "outputs": [],
   "source": [
    "# 基本的网络构建类模板\n",
    "class net_name(nn.Module):\n",
    "    def __init__(self):\n",
    "        super(net_name, self).__init__()\n",
    "        # 可以添加各种网络层\n",
    "        self.conv1 = nn.Conv2d(3, 10, 3)\n",
    "        # 具体每种层的参数可以去查看文档\n",
    "        \n",
    "    def forward(self, x):\n",
    "        # 定义向前传播\n",
    "        out = self.conv1(x)\n",
    "        return out"
   ]
  }
 ],
 "metadata": {
  "anaconda-cloud": {},
  "kernelspec": {
   "display_name": "Python 3",
   "language": "python",
   "name": "python3"
  },
  "language_info": {
   "codemirror_mode": {
    "name": "ipython",
    "version": 3
   },
   "file_extension": ".py",
   "mimetype": "text/x-python",
   "name": "python",
   "nbconvert_exporter": "python",
   "pygments_lexer": "ipython3",
   "version": "3.7.5"
  }
 },
 "nbformat": 4,
 "nbformat_minor": 1
}
